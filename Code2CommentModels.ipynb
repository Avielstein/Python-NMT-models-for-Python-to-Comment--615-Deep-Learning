{
 "cells": [
  {
   "cell_type": "code",
   "execution_count": 1,
   "metadata": {},
   "outputs": [
    {
     "name": "stdout",
     "output_type": "stream",
     "text": [
      "importing Jupyter notebook from Extract_Python_Pairs.ipynb\n",
      "importing Jupyter notebook from Python_tokenizer.ipynb\n"
     ]
    }
   ],
   "source": [
    "import import_ipynb\n",
    "import Extract_Python_Pairs as EPP\n",
    "import Python_tokenizer\n",
    "\n",
    "import io\n",
    "from tqdm import tqdm\n",
    "import collections\n",
    "import numpy as np\n",
    "import os\n",
    "\n",
    "#TENSORFLOW\n",
    "import tensorflow as tf\n",
    "from tensorflow import keras \n",
    "from tensorflow.keras.preprocessing.text import Tokenizer\n",
    "from tensorflow.keras.preprocessing.sequence import pad_sequences\n",
    "from tensorflow.keras.models import Model, Sequential\n",
    "from tensorflow.keras.layers import GRU, Input, Dense, TimeDistributed, Activation, RepeatVector, Bidirectional,  Embedding, LSTM, Attention\n",
    "from tensorflow.keras.optimizers import Adam\n",
    "from tensorflow.keras.losses import sparse_categorical_crossentropy\n",
    "\n",
    "import pydot\n",
    "import graphviz\n",
    "import matplotlib.pyplot as plt\n",
    "from keras.utils import plot_model"
   ]
  },
  {
   "cell_type": "code",
   "execution_count": 2,
   "metadata": {},
   "outputs": [
    {
     "name": "stderr",
     "output_type": "stream",
     "text": [
      "  0%|          | 17907/16115540 [00:00<01:29, 179068.04it/s]"
     ]
    },
    {
     "name": "stdout",
     "output_type": "stream",
     "text": [
      "Completed in 414 seconds\n"
     ]
    },
    {
     "name": "stderr",
     "output_type": "stream",
     "text": [
      "100%|██████████| 16115540/16115540 [01:19<00:00, 201726.29it/s]\n"
     ]
    },
    {
     "name": "stdout",
     "output_type": "stream",
     "text": [
      "Total pairs: 2508330\n"
     ]
    }
   ],
   "source": [
    "#get the code and comment snippets from the Extract Python Pairs file\n",
    "code_snippets, comments = EPP.get_python_pairs(EPP.get_all_data())"
   ]
  },
  {
   "cell_type": "code",
   "execution_count": 4,
   "metadata": {},
   "outputs": [
    {
     "name": "stderr",
     "output_type": "stream",
     "text": [
      "100%|██████████| 2000/2000 [00:01<00:00, 1271.33it/s]"
     ]
    },
    {
     "name": "stdout",
     "output_type": "stream",
     "text": [
      "failed: 0.022 %\n",
      "number of clean pairs: 1956\n"
     ]
    },
    {
     "name": "stderr",
     "output_type": "stream",
     "text": [
      "\n"
     ]
    }
   ],
   "source": [
    "#filter out code pairs which will throw errors during tokenization\n",
    "clean_code,clean_comments = Python_tokenizer.clean_pairs(code_snippets[:2000], comments[:2000])"
   ]
  },
  {
   "cell_type": "code",
   "execution_count": 5,
   "metadata": {},
   "outputs": [],
   "source": [
    "num_samples = 1000\n",
    "vocab_size = 1000"
   ]
  },
  {
   "cell_type": "code",
   "execution_count": 6,
   "metadata": {},
   "outputs": [],
   "source": [
    "def pad(x, length=None):\n",
    "    if length is None:\n",
    "        length = max([len(sentence) for sentence in x])\n",
    "    return pad_sequences(x, maxlen = length, padding = 'post')\n",
    "\n",
    "def tokenize_comment(x):\n",
    "    x_tk = Tokenizer(char_level = False, num_words=vocab_size)\n",
    "    x_tk.fit_on_texts(x)\n",
    "    return x_tk.texts_to_sequences(x), x_tk\n",
    "\n",
    "def tokenize_code(x):\n",
    "    x_tk = Python_tokenizer.Python_Tokenizer(num_words=vocab_size)\n",
    "    x_tk.fit_on_texts(x)\n",
    "    return x_tk.texts_to_sequences(x), x_tk\n",
    "\n",
    "def logits_to_text(logits, tokenizer):\n",
    "    index_to_words = {id: word for word, id in tokenizer.word_index.items()}\n",
    "    index_to_words[0] = '<PAD>'\n",
    "    return ' '.join([index_to_words[prediction] for prediction in np.argmax(logits, 1)])"
   ]
  },
  {
   "cell_type": "code",
   "execution_count": 7,
   "metadata": {},
   "outputs": [
    {
     "name": "stderr",
     "output_type": "stream",
     "text": [
      "100%|██████████| 1000/1000 [00:00<00:00, 1317.30it/s]\n"
     ]
    },
    {
     "name": "stdout",
     "output_type": "stream",
     "text": [
      "Data Preprocessed\n",
      "Max code sentence length: 246\n",
      "Max comment sentence length: 140\n",
      "code vocabulary size: 2522\n",
      "comment vocabulary size: 2384\n"
     ]
    }
   ],
   "source": [
    "def preprocess(code, comment):\n",
    "    preprocess_x, x_tk = tokenize_code(code)\n",
    "    preprocess_y, y_tk = tokenize_comment(comment)\n",
    "    preprocess_x = pad(preprocess_x)\n",
    "    preprocess_y = pad(preprocess_y)\n",
    "    # Keras's sparse_categorical_crossentropy function requires the labels to be in 3 dimensions\n",
    "    preprocess_y = preprocess_y.reshape(*preprocess_y.shape, 1)\n",
    "    return preprocess_x, preprocess_y, x_tk, y_tk\n",
    "\n",
    "\n",
    "preproc_code_snippets, preproc_english_comments, code_tokenizer, comment_tokenizer = preprocess(clean_code[:num_samples], clean_comments[:num_samples])\n",
    "\n",
    "max_code_sequence_length = preproc_code_snippets.shape[1]\n",
    "max_comment_sequence_length = preproc_english_comments.shape[1]\n",
    "code_vocab_size = len(code_tokenizer.word_index)\n",
    "comment_vocab_size = len(comment_tokenizer.word_index)\n",
    "\n",
    "\n",
    "print('Data Preprocessed')\n",
    "print(\"Max code sentence length:\", max_code_sequence_length)\n",
    "print(\"Max comment sentence length:\", max_comment_sequence_length)\n",
    "print(\"code vocabulary size:\", code_vocab_size)\n",
    "print(\"comment vocabulary size:\", comment_vocab_size)"
   ]
  },
  {
   "cell_type": "code",
   "execution_count": 8,
   "metadata": {},
   "outputs": [],
   "source": [
    "# list all data in history\n",
    "def plot_history(history):\n",
    "    plt.plot(history.history['accuracy'])\n",
    "    plt.plot(history.history['val_accuracy'])\n",
    "    plt.title('model accuracy')\n",
    "    plt.ylabel('accuracy')\n",
    "    plt.xlabel('epoch')\n",
    "    plt.legend(['train', 'test'], loc='upper left')\n",
    "    plt.show()\n",
    "    # summarize history for loss\n",
    "    plt.plot(history.history['loss'])\n",
    "    plt.plot(history.history['val_loss'])\n",
    "    plt.title('model loss')\n",
    "    plt.ylabel('loss')\n",
    "    plt.xlabel('epoch')\n",
    "    plt.legend(['train', 'test'], loc='upper left')\n",
    "    plt.show()\n",
    "    "
   ]
  },
  {
   "cell_type": "code",
   "execution_count": 13,
   "metadata": {},
   "outputs": [
    {
     "name": "stdout",
     "output_type": "stream",
     "text": [
      "Epoch 1/25\n",
      "80/80 [==============================] - ETA: 0s - loss: 0.1614 - accuracy: 0.4824\n",
      "Epoch 00001: val_loss improved from inf to 0.14259, saving model to code2comment_models/bi_lstm.ckpt\n",
      "80/80 [==============================] - 19s 238ms/step - loss: 0.1614 - accuracy: 0.4824 - val_loss: 0.1426 - val_accuracy: 0.6876\n",
      "Epoch 2/25\n",
      "80/80 [==============================] - ETA: 0s - loss: 0.0837 - accuracy: 0.5323\n",
      "Epoch 00002: val_loss did not improve from 0.14259\n",
      "80/80 [==============================] - 14s 180ms/step - loss: 0.0837 - accuracy: 0.5323 - val_loss: 0.1486 - val_accuracy: 0.6924\n",
      "Epoch 3/25\n",
      "80/80 [==============================] - ETA: 0s - loss: 0.0787 - accuracy: 0.5373\n",
      "Epoch 00003: val_loss did not improve from 0.14259\n",
      "80/80 [==============================] - 15s 183ms/step - loss: 0.0787 - accuracy: 0.5373 - val_loss: 0.1521 - val_accuracy: 0.6876\n",
      "Epoch 4/25\n",
      "80/80 [==============================] - ETA: 0s - loss: 0.0767 - accuracy: 0.5429\n",
      "Epoch 00004: val_loss did not improve from 0.14259\n",
      "80/80 [==============================] - 15s 188ms/step - loss: 0.0767 - accuracy: 0.5429 - val_loss: 0.1469 - val_accuracy: 0.6910\n",
      "Epoch 5/25\n",
      "80/80 [==============================] - ETA: 0s - loss: 0.0764 - accuracy: 0.5366\n",
      "Epoch 00005: val_loss did not improve from 0.14259\n",
      "80/80 [==============================] - 15s 184ms/step - loss: 0.0764 - accuracy: 0.5366 - val_loss: 0.1541 - val_accuracy: 0.6910\n",
      "Epoch 6/25\n",
      "80/80 [==============================] - ETA: 0s - loss: 0.0735 - accuracy: 0.5425\n",
      "Epoch 00006: val_loss did not improve from 0.14259\n",
      "80/80 [==============================] - 15s 183ms/step - loss: 0.0735 - accuracy: 0.5425 - val_loss: 0.1548 - val_accuracy: 0.6774\n",
      "Epoch 7/25\n",
      "80/80 [==============================] - ETA: 0s - loss: 0.0728 - accuracy: 0.5278\n",
      "Epoch 00007: val_loss did not improve from 0.14259\n",
      "80/80 [==============================] - 15s 183ms/step - loss: 0.0728 - accuracy: 0.5278 - val_loss: 0.1580 - val_accuracy: 0.6856\n",
      "Epoch 8/25\n",
      "80/80 [==============================] - ETA: 0s - loss: 0.0709 - accuracy: 0.5397\n",
      "Epoch 00008: val_loss did not improve from 0.14259\n",
      "80/80 [==============================] - 14s 179ms/step - loss: 0.0709 - accuracy: 0.5397 - val_loss: 0.1573 - val_accuracy: 0.6719\n",
      "Epoch 9/25\n",
      "80/80 [==============================] - ETA: 0s - loss: 0.0691 - accuracy: 0.5408\n",
      "Epoch 00009: val_loss did not improve from 0.14259\n",
      "80/80 [==============================] - 14s 174ms/step - loss: 0.0691 - accuracy: 0.5408 - val_loss: 0.1587 - val_accuracy: 0.6678\n",
      "Epoch 10/25\n",
      "80/80 [==============================] - ETA: 0s - loss: 0.0680 - accuracy: 0.5443\n",
      "Epoch 00010: val_loss did not improve from 0.14259\n",
      "80/80 [==============================] - 15s 183ms/step - loss: 0.0680 - accuracy: 0.5443 - val_loss: 0.1595 - val_accuracy: 0.6589\n",
      "Epoch 11/25\n",
      "80/80 [==============================] - ETA: 0s - loss: 0.0682 - accuracy: 0.5457\n",
      "Epoch 00011: val_loss did not improve from 0.14259\n",
      "80/80 [==============================] - 14s 180ms/step - loss: 0.0682 - accuracy: 0.5457 - val_loss: 0.1620 - val_accuracy: 0.6514\n",
      "Epoch 12/25\n",
      "80/80 [==============================] - ETA: 0s - loss: 0.0665 - accuracy: 0.5506\n",
      "Epoch 00012: val_loss did not improve from 0.14259\n",
      "80/80 [==============================] - 15s 188ms/step - loss: 0.0665 - accuracy: 0.5506 - val_loss: 0.1628 - val_accuracy: 0.6548\n",
      "Epoch 13/25\n",
      "80/80 [==============================] - ETA: 0s - loss: 0.0666 - accuracy: 0.5496\n",
      "Epoch 00013: val_loss did not improve from 0.14259\n",
      "80/80 [==============================] - 15s 184ms/step - loss: 0.0666 - accuracy: 0.5496 - val_loss: 0.1663 - val_accuracy: 0.6391\n",
      "Epoch 14/25\n",
      "80/80 [==============================] - ETA: 0s - loss: 0.0664 - accuracy: 0.5475\n",
      "Epoch 00014: val_loss did not improve from 0.14259\n",
      "80/80 [==============================] - 14s 181ms/step - loss: 0.0664 - accuracy: 0.5475 - val_loss: 0.1655 - val_accuracy: 0.6535\n",
      "Epoch 15/25\n",
      "80/80 [==============================] - ETA: 0s - loss: 0.0666 - accuracy: 0.5443\n",
      "Epoch 00015: val_loss did not improve from 0.14259\n",
      "80/80 [==============================] - 14s 177ms/step - loss: 0.0666 - accuracy: 0.5443 - val_loss: 0.1714 - val_accuracy: 0.6254\n",
      "Epoch 16/25\n",
      "80/80 [==============================] - ETA: 0s - loss: 0.0664 - accuracy: 0.5499\n",
      "Epoch 00016: val_loss did not improve from 0.14259\n",
      "80/80 [==============================] - 15s 181ms/step - loss: 0.0664 - accuracy: 0.5499 - val_loss: 0.1679 - val_accuracy: 0.6480\n",
      "Epoch 17/25\n",
      "80/80 [==============================] - ETA: 0s - loss: 0.0650 - accuracy: 0.5520\n",
      "Epoch 00017: val_loss did not improve from 0.14259\n",
      "80/80 [==============================] - 15s 183ms/step - loss: 0.0650 - accuracy: 0.5520 - val_loss: 0.1727 - val_accuracy: 0.6063\n",
      "Epoch 18/25\n",
      "80/80 [==============================] - ETA: 0s - loss: 0.0651 - accuracy: 0.5549\n",
      "Epoch 00018: val_loss did not improve from 0.14259\n",
      "80/80 [==============================] - 15s 184ms/step - loss: 0.0651 - accuracy: 0.5549 - val_loss: 0.1675 - val_accuracy: 0.6459\n",
      "Epoch 19/25\n",
      "80/80 [==============================] - ETA: 0s - loss: 0.0646 - accuracy: 0.5556\n",
      "Epoch 00019: val_loss did not improve from 0.14259\n",
      "80/80 [==============================] - 15s 182ms/step - loss: 0.0646 - accuracy: 0.5556 - val_loss: 0.1681 - val_accuracy: 0.6487\n",
      "Epoch 20/25\n",
      "80/80 [==============================] - ETA: 0s - loss: 0.0639 - accuracy: 0.5580\n",
      "Epoch 00020: val_loss did not improve from 0.14259\n",
      "80/80 [==============================] - 15s 183ms/step - loss: 0.0639 - accuracy: 0.5580 - val_loss: 0.1773 - val_accuracy: 0.6029\n",
      "Epoch 21/25\n",
      "80/80 [==============================] - ETA: 0s - loss: 0.0636 - accuracy: 0.5584\n",
      "Epoch 00021: val_loss did not improve from 0.14259\n",
      "80/80 [==============================] - 15s 182ms/step - loss: 0.0636 - accuracy: 0.5584 - val_loss: 0.1740 - val_accuracy: 0.6377\n",
      "Epoch 22/25\n",
      "80/80 [==============================] - ETA: 0s - loss: 0.0633 - accuracy: 0.5552\n",
      "Epoch 00022: val_loss did not improve from 0.14259\n",
      "80/80 [==============================] - 15s 185ms/step - loss: 0.0633 - accuracy: 0.5552 - val_loss: 0.1693 - val_accuracy: 0.6548\n",
      "Epoch 23/25\n",
      "80/80 [==============================] - ETA: 0s - loss: 0.0642 - accuracy: 0.5573\n",
      "Epoch 00023: val_loss did not improve from 0.14259\n",
      "80/80 [==============================] - 15s 186ms/step - loss: 0.0642 - accuracy: 0.5573 - val_loss: 0.1841 - val_accuracy: 0.5810\n",
      "Epoch 24/25\n",
      "80/80 [==============================] - ETA: 0s - loss: 0.0630 - accuracy: 0.5577\n",
      "Epoch 00024: val_loss did not improve from 0.14259\n",
      "80/80 [==============================] - 14s 181ms/step - loss: 0.0630 - accuracy: 0.5577 - val_loss: 0.1770 - val_accuracy: 0.6200\n",
      "Epoch 25/25\n",
      "80/80 [==============================] - ETA: 0s - loss: 0.0627 - accuracy: 0.5580\n",
      "Epoch 00025: val_loss did not improve from 0.14259\n",
      "80/80 [==============================] - 15s 183ms/step - loss: 0.0627 - accuracy: 0.5580 - val_loss: 0.1800 - val_accuracy: 0.6083\n"
     ]
    },
    {
     "data": {
      "image/png": "[encoded data removed]",
      "text/plain": [
       "<Figure size 432x288 with 1 Axes>"
      ]
     },
     "metadata": {
      "needs_background": "light"
     },
     "output_type": "display_data"
    },
    {
     "data": {
      "image/png": "[encoded data removed]",
      "text/plain": [
       "<Figure size 432x288 with 1 Axes>"
      ]
     },
     "metadata": {
      "needs_background": "light"
     },
     "output_type": "display_data"
    }
   ],
   "source": [
    "#define the model\n",
    "def BiLSTM_model(input_shape, output_sequence_length, comment_vocab_size):\n",
    "    \n",
    "    learning_rate = 1e-3\n",
    "    model = Sequential()\n",
    "    #em can only be used in first layer --> Keras Documentation\n",
    "    model.add(Embedding(comment_vocab_size, 64, input_length=input_shape[1],mask_zero=True))\n",
    "    model.add(Bidirectional(LSTM(64, return_sequences=True, activation=\"tanh\")))\n",
    "    model.add(TimeDistributed(Dense(comment_vocab_size, activation=\"softmax\")))\n",
    "    \n",
    "    model.compile(loss=sparse_categorical_crossentropy,\n",
    "                  optimizer=Adam(learning_rate),\n",
    "                  metrics=['accuracy'])\n",
    "    \n",
    "    return model\n",
    "\n",
    "\n",
    "checkpoint_path = \"code2comment_models/bi_lstm.ckpt\"\n",
    "checkpoint_dir = os.path.dirname(checkpoint_path)\n",
    "\n",
    "# Create a callback that saves the model's weights\n",
    "callback = tf.keras.callbacks.ModelCheckpoint(filepath=checkpoint_path,\n",
    "                                              save_weights_only=True,\n",
    "                                              save_best_only=True,\n",
    "                                              verbose=1)\n",
    "\n",
    "\n",
    "\n",
    "tmp_x = pad(preproc_code_snippets, max_comment_sequence_length)\n",
    "tmp_x = tmp_x.reshape((-1, preproc_english_comments.shape[-2]))\n",
    "\n",
    "#load the model\n",
    "bilstm_model = BiLSTM_model(\n",
    "    tmp_x.shape,\n",
    "    max_comment_sequence_length,\n",
    "    comment_vocab_size+1)\n",
    "\n",
    "\n",
    "#train the model\n",
    "bilstm_model_history = bilstm_model.fit(tmp_x, \n",
    "                                        preproc_english_comments, \n",
    "                                        batch_size=10, \n",
    "                                        epochs=25, \n",
    "                                        validation_split=0.2,\n",
    "                                        callbacks=[callback])\n",
    "\n",
    "#plot the model\n",
    "plot_history(bilstm_model_history)\n"
   ]
  },
  {
   "cell_type": "code",
   "execution_count": 21,
   "metadata": {},
   "outputs": [
    {
     "name": "stdout",
     "output_type": "stream",
     "text": [
      "Epoch 1/25\n",
      "80/80 [==============================] - ETA: 0s - loss: 2.2211 - accuracy: 0.7958\n",
      "Epoch 00001: val_loss improved from inf to 1.49263, saving model to code2comment_models/GRU.ckpt\n",
      "80/80 [==============================] - 51s 642ms/step - loss: 2.2211 - accuracy: 0.7958 - val_loss: 1.4926 - val_accuracy: 0.8956\n",
      "Epoch 2/25\n",
      "80/80 [==============================] - ETA: 0s - loss: 1.8817 - accuracy: 0.7935\n",
      "Epoch 00002: val_loss improved from 1.49263 to 0.91837, saving model to code2comment_models/GRU.ckpt\n",
      "80/80 [==============================] - 45s 566ms/step - loss: 1.8817 - accuracy: 0.7935 - val_loss: 0.9184 - val_accuracy: 0.9244\n",
      "Epoch 3/25\n",
      "80/80 [==============================] - ETA: 0s - loss: 1.7549 - accuracy: 0.8028\n",
      "Epoch 00003: val_loss did not improve from 0.91837\n",
      "80/80 [==============================] - 45s 557ms/step - loss: 1.7549 - accuracy: 0.8028 - val_loss: 1.1187 - val_accuracy: 0.9244\n",
      "Epoch 4/25\n",
      "80/80 [==============================] - ETA: 0s - loss: 1.6162 - accuracy: 0.8033\n",
      "Epoch 00004: val_loss improved from 0.91837 to 0.87100, saving model to code2comment_models/GRU.ckpt\n",
      "80/80 [==============================] - 44s 551ms/step - loss: 1.6162 - accuracy: 0.8033 - val_loss: 0.8710 - val_accuracy: 0.9243\n",
      "Epoch 5/25\n",
      "80/80 [==============================] - ETA: 0s - loss: 1.5433 - accuracy: 0.8044\n",
      "Epoch 00005: val_loss improved from 0.87100 to 0.82533, saving model to code2comment_models/GRU.ckpt\n",
      "80/80 [==============================] - 44s 545ms/step - loss: 1.5433 - accuracy: 0.8044 - val_loss: 0.8253 - val_accuracy: 0.9244\n",
      "Epoch 6/25\n",
      "80/80 [==============================] - ETA: 0s - loss: 1.5146 - accuracy: 0.8048\n",
      "Epoch 00006: val_loss did not improve from 0.82533\n",
      "80/80 [==============================] - 44s 544ms/step - loss: 1.5146 - accuracy: 0.8048 - val_loss: 0.9384 - val_accuracy: 0.9254\n",
      "Epoch 7/25\n",
      "80/80 [==============================] - ETA: 0s - loss: 1.5061 - accuracy: 0.8049\n",
      "Epoch 00007: val_loss did not improve from 0.82533\n",
      "80/80 [==============================] - 44s 552ms/step - loss: 1.5061 - accuracy: 0.8049 - val_loss: 0.9205 - val_accuracy: 0.9254\n",
      "Epoch 8/25\n",
      "80/80 [==============================] - ETA: 0s - loss: 1.5090 - accuracy: 0.8049\n",
      "Epoch 00008: val_loss did not improve from 0.82533\n",
      "80/80 [==============================] - 44s 552ms/step - loss: 1.5090 - accuracy: 0.8049 - val_loss: 0.8504 - val_accuracy: 0.9242\n",
      "Epoch 9/25\n",
      "80/80 [==============================] - ETA: 0s - loss: 1.4915 - accuracy: 0.8050\n",
      "Epoch 00009: val_loss did not improve from 0.82533\n",
      "80/80 [==============================] - 44s 553ms/step - loss: 1.4915 - accuracy: 0.8050 - val_loss: 0.8316 - val_accuracy: 0.9254\n",
      "Epoch 10/25\n",
      "80/80 [==============================] - ETA: 0s - loss: 1.4919 - accuracy: 0.8049\n",
      "Epoch 00010: val_loss improved from 0.82533 to 0.81541, saving model to code2comment_models/GRU.ckpt\n",
      "80/80 [==============================] - 44s 552ms/step - loss: 1.4919 - accuracy: 0.8049 - val_loss: 0.8154 - val_accuracy: 0.9254\n",
      "Epoch 11/25\n",
      "80/80 [==============================] - ETA: 0s - loss: 1.4817 - accuracy: 0.8050\n",
      "Epoch 00011: val_loss did not improve from 0.81541\n",
      "80/80 [==============================] - 44s 555ms/step - loss: 1.4817 - accuracy: 0.8050 - val_loss: 0.8965 - val_accuracy: 0.9252\n",
      "Epoch 12/25\n",
      "80/80 [==============================] - ETA: 0s - loss: 1.4797 - accuracy: 0.8049\n",
      "Epoch 00012: val_loss did not improve from 0.81541\n",
      "80/80 [==============================] - 46s 574ms/step - loss: 1.4797 - accuracy: 0.8049 - val_loss: 0.9253 - val_accuracy: 0.9224\n",
      "Epoch 13/25\n",
      "80/80 [==============================] - ETA: 0s - loss: 1.4960 - accuracy: 0.8049\n",
      "Epoch 00013: val_loss did not improve from 0.81541\n",
      "80/80 [==============================] - 46s 571ms/step - loss: 1.4960 - accuracy: 0.8049 - val_loss: 0.8742 - val_accuracy: 0.9244\n",
      "Epoch 14/25\n",
      "80/80 [==============================] - ETA: 0s - loss: 1.4759 - accuracy: 0.8050\n",
      "Epoch 00014: val_loss did not improve from 0.81541\n",
      "80/80 [==============================] - 43s 541ms/step - loss: 1.4759 - accuracy: 0.8050 - val_loss: 0.8950 - val_accuracy: 0.9235\n",
      "Epoch 15/25\n",
      "80/80 [==============================] - ETA: 0s - loss: 1.4731 - accuracy: 0.8050\n",
      "Epoch 00015: val_loss did not improve from 0.81541\n",
      "80/80 [==============================] - 42s 528ms/step - loss: 1.4731 - accuracy: 0.8050 - val_loss: 0.9212 - val_accuracy: 0.9179\n",
      "Epoch 16/25\n",
      "80/80 [==============================] - ETA: 0s - loss: 1.4583 - accuracy: 0.8052\n",
      "Epoch 00016: val_loss did not improve from 0.81541\n",
      "80/80 [==============================] - 44s 545ms/step - loss: 1.4583 - accuracy: 0.8052 - val_loss: 0.8391 - val_accuracy: 0.9243\n",
      "Epoch 17/25\n",
      "80/80 [==============================] - ETA: 0s - loss: 1.4550 - accuracy: 0.8051\n",
      "Epoch 00017: val_loss did not improve from 0.81541\n",
      "80/80 [==============================] - 29s 367ms/step - loss: 1.4550 - accuracy: 0.8051 - val_loss: 0.8521 - val_accuracy: 0.9223\n",
      "Epoch 18/25\n",
      "80/80 [==============================] - ETA: 0s - loss: 1.4534 - accuracy: 0.8055\n",
      "Epoch 00018: val_loss did not improve from 0.81541\n",
      "80/80 [==============================] - 27s 342ms/step - loss: 1.4534 - accuracy: 0.8055 - val_loss: 0.9564 - val_accuracy: 0.9166\n",
      "Epoch 19/25\n",
      "80/80 [==============================] - ETA: 0s - loss: 1.4565 - accuracy: 0.8051\n",
      "Epoch 00019: val_loss did not improve from 0.81541\n",
      "80/80 [==============================] - 27s 342ms/step - loss: 1.4565 - accuracy: 0.8051 - val_loss: 0.8887 - val_accuracy: 0.9235\n",
      "Epoch 20/25\n",
      "80/80 [==============================] - ETA: 0s - loss: 1.4444 - accuracy: 0.8054\n",
      "Epoch 00020: val_loss did not improve from 0.81541\n",
      "80/80 [==============================] - 27s 332ms/step - loss: 1.4444 - accuracy: 0.8054 - val_loss: 0.9489 - val_accuracy: 0.9207\n",
      "Epoch 21/25\n",
      "80/80 [==============================] - ETA: 0s - loss: 1.4425 - accuracy: 0.8058\n",
      "Epoch 00021: val_loss did not improve from 0.81541\n",
      "80/80 [==============================] - 28s 355ms/step - loss: 1.4425 - accuracy: 0.8058 - val_loss: 0.8985 - val_accuracy: 0.9196\n",
      "Epoch 22/25\n",
      "80/80 [==============================] - ETA: 0s - loss: 1.4529 - accuracy: 0.8055\n",
      "Epoch 00022: val_loss did not improve from 0.81541\n",
      "80/80 [==============================] - 45s 568ms/step - loss: 1.4529 - accuracy: 0.8055 - val_loss: 0.9791 - val_accuracy: 0.9209\n",
      "Epoch 23/25\n",
      "80/80 [==============================] - ETA: 0s - loss: 1.4380 - accuracy: 0.8055\n",
      "Epoch 00023: val_loss did not improve from 0.81541\n",
      "80/80 [==============================] - 39s 490ms/step - loss: 1.4380 - accuracy: 0.8055 - val_loss: 0.8910 - val_accuracy: 0.9222\n",
      "Epoch 24/25\n",
      "80/80 [==============================] - ETA: 0s - loss: 1.4352 - accuracy: 0.8055\n",
      "Epoch 00024: val_loss did not improve from 0.81541\n",
      "80/80 [==============================] - 27s 332ms/step - loss: 1.4352 - accuracy: 0.8055 - val_loss: 0.8709 - val_accuracy: 0.9222\n",
      "Epoch 25/25\n",
      "80/80 [==============================] - ETA: 0s - loss: 1.4354 - accuracy: 0.8052\n",
      "Epoch 00025: val_loss did not improve from 0.81541\n",
      "80/80 [==============================] - 25s 315ms/step - loss: 1.4354 - accuracy: 0.8052 - val_loss: 0.8954 - val_accuracy: 0.9209\n"
     ]
    },
    {
     "data": {
      "image/png": "[encoded data removed]",
      "text/plain": [
       "<Figure size 432x288 with 1 Axes>"
      ]
     },
     "metadata": {
      "needs_background": "light"
     },
     "output_type": "display_data"
    },
    {
     "data": {
      "image/png": "[encoded data removed]",
      "text/plain": [
       "<Figure size 432x288 with 1 Axes>"
      ]
     },
     "metadata": {
      "needs_background": "light"
     },
     "output_type": "display_data"
    }
   ],
   "source": [
    "#https://www.tensorflow.org/guide/keras/masking_and_padding\n",
    "def custom_model(input_shape, output_sequence_length, code_vocab_size, comment_vocab_size):\n",
    "  \n",
    "    learning_rate = 0.005\n",
    "    model = Sequential()\n",
    "    model.add(Embedding(input_dim=code_vocab_size,output_dim=128,input_length=input_shape[1], mask_zero=True))\n",
    "    model.add(Bidirectional(GRU(256,return_sequences=False)))\n",
    "    model.add(RepeatVector(output_sequence_length))\n",
    "    model.add(Bidirectional(GRU(256,return_sequences=True)))\n",
    "    model.add(TimeDistributed(Dense(comment_vocab_size,activation='softmax')))\n",
    "    \n",
    "    \n",
    "    model.compile(loss = sparse_categorical_crossentropy, \n",
    "                 optimizer = Adam(learning_rate), \n",
    "                 metrics = ['accuracy'])\n",
    "    \n",
    "    return model\n",
    "\n",
    "\n",
    "checkpoint_path = \"code2comment_models/GRU.ckpt\"\n",
    "checkpoint_dir = os.path.dirname(checkpoint_path)\n",
    "\n",
    "# Create a callback that saves the model's weights\n",
    "callback = tf.keras.callbacks.ModelCheckpoint(filepath=checkpoint_path,\n",
    "                                              save_weights_only=True,\n",
    "                                              save_best_only=True,\n",
    "                                              verbose=1)\n",
    "\n",
    "\n",
    "\n",
    "\n",
    "tmp_x = pad(preproc_code_snippets, max_comment_sequence_length)\n",
    "tmp_x = tmp_x.reshape((-1, preproc_english_comments.shape[-2]))\n",
    "\n",
    "\n",
    "custosm = custom_model(tmp_x.shape,\n",
    "                       preproc_english_comments.shape[1],\n",
    "                       len(code_tokenizer.word_index)+1,\n",
    "                       len(comment_tokenizer.word_index)+1)\n",
    "\n",
    "\n",
    "custom_model_history = custosm.fit(tmp_x, \n",
    "                                   preproc_english_comments, \n",
    "                                   batch_size = 10, \n",
    "                                   epochs = 25, \n",
    "                                   validation_split = 0.2,\n",
    "                                   callbacks=[callback])\n",
    "plot_history(custom_model_history)"
   ]
  },
  {
   "cell_type": "code",
   "execution_count": 36,
   "metadata": {},
   "outputs": [
    {
     "name": "stdout",
     "output_type": "stream",
     "text": [
      "---------------------------------------------------------------\n",
      "Code\n",
      "---------------------------------------------------------------\n",
      "    def _get_mv_grid_from_bus_id(self, session, bus_id):\n",
      "        \n",
      "\n",
      "        if self._versioned is True:\n",
      "            ormclass_hvmv_subst = grid.__getattribute__(\n",
      "                'EgoDpHvmvSubstation'\n",
      "            )\n",
      "            subst_id = session.query(\n",
      "                ormclass_hvmv_subst.subst_id\n",
      "            ).filter(\n",
      "                ormclass_hvmv_subst.otg_id == bus_id,\n",
      "                ormclass_hvmv_subst.version == self._grid_version\n",
      "            ).scalar()\n",
      "\n",
      "        if self._versioned is False:\n",
      "            ormclass_hvmv_subst = model_draft.__getattribute__(\n",
      "                'EgoGridHvmvSubstation'\n",
      "            )\n",
      "            subst_id = session.query(\n",
      "                ormclass_hvmv_subst.subst_id\n",
      "            ).filter(\n",
      "                ormclass_hvmv_subst.otg_id == bus_id\n",
      "            ).scalar()\n",
      "\n",
      "        return subst_id\n",
      "\n",
      "\n",
      "---------------------------------------------------------------\n",
      "Output:\n",
      "---------------------------------------------------------------\n",
      "the the the the the the the the the the the the the the the <PAD> <PAD> <PAD> <PAD> <PAD> <PAD> <PAD> <PAD> <PAD> <PAD> <PAD> <PAD> <PAD> <PAD> <PAD> <PAD> <PAD> <PAD> <PAD> <PAD> <PAD> <PAD> <PAD> <PAD> <PAD> <PAD> <PAD> <PAD> <PAD> <PAD> <PAD> <PAD> <PAD> <PAD> <PAD> <PAD> <PAD> <PAD> <PAD> <PAD> <PAD> <PAD> <PAD> <PAD> <PAD> <PAD> <PAD> <PAD> <PAD> <PAD> <PAD> <PAD> <PAD> <PAD> <PAD> <PAD> <PAD> <PAD> <PAD> <PAD> <PAD> <PAD> <PAD> <PAD> <PAD> <PAD> <PAD> <PAD> <PAD> <PAD> <PAD> <PAD> <PAD> <PAD> <PAD> <PAD> <PAD> <PAD> <PAD> <PAD> <PAD> <PAD> <PAD> <PAD> <PAD> <PAD> <PAD> <PAD> <PAD> <PAD> <PAD> <PAD> <PAD> <PAD> <PAD> <PAD> <PAD> <PAD> <PAD> the the the the the the the the the the the the the the the the the the the the the the the the the the the the the the the the the the the the the the the the the the the the the the the the the the the the the the the the the the the the the the the the the the the the the the the the the the the the the the the the the the the the the the the the the the the the the the the the the the the the the the the the the the the the the the the the the the the the the the the the the the the the the the the the the the the the\n",
      "---------------------------------------------------------------\n"
     ]
    }
   ],
   "source": [
    "def translate(x, y, x_tk, y_tk, model, sentence):\n",
    "    tmp_X = pad(preproc_code_snippets)\n",
    "    y_id_to_word = {value: key for key, value in y_tk.word_index.items()}\n",
    "    y_id_to_word = {value: key for key, value in y_tk.word_index.items()}\n",
    "    y_id_to_word[0] = '<PAD>'\n",
    "    \n",
    "    #sentence = [x_tk.word_index[word] for word in sentence.split()]\n",
    "    #sentence = [x_tk.word_index[word] for word in Python_tokenizer.python_to_token_sequence(sentence)]\n",
    "    s=[]\n",
    "    for token in Python_tokenizer.python_to_token_sequence(sentence):\n",
    "        try:\n",
    "            s.append(x_tk.word_index[token])\n",
    "        except:\n",
    "            pass\n",
    "    sentence = s\n",
    "        \n",
    "    sentence = pad_sequences([sentence], maxlen=x.shape[-1], padding='post')\n",
    "    sentence = np.array([sentence[0], x[0]])\n",
    "    \n",
    "    predictions = model.predict(sentence)\n",
    "    output = [y_id_to_word[np.argmax(x)] for x in predictions[0]]\n",
    "    print(' '.join(output))\n",
    "\n",
    "sentence = clean_code[910]\n",
    "print('---------------------------------------------------------------')\n",
    "print('Code')\n",
    "print('---------------------------------------------------------------')\n",
    "print(sentence)\n",
    "print('---------------------------------------------------------------')\n",
    "print('Output:')\n",
    "print('---------------------------------------------------------------')\n",
    "#m = custosm\n",
    "m= bilstm_model\n",
    "translate(preproc_code_snippets, preproc_english_comments, code_tokenizer, comment_tokenizer , m, sentence)\n",
    "print('---------------------------------------------------------------')"
   ]
  }
 ],
 "metadata": {
  "kernelspec": {
   "display_name": "Python 3",
   "language": "python",
   "name": "python3"
  },
  "language_info": {
   "codemirror_mode": {
    "name": "ipython",
    "version": 3
   },
   "file_extension": ".py",
   "mimetype": "text/x-python",
   "name": "python",
   "nbconvert_exporter": "python",
   "pygments_lexer": "ipython3",
   "version": "3.6.10"
  }
 },
 "nbformat": 4,
 "nbformat_minor": 4
}
