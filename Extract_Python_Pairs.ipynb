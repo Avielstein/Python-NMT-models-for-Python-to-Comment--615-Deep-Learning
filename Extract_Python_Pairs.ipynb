{
 "cells": [
  {
   "cell_type": "code",
   "execution_count": 2,
   "metadata": {},
   "outputs": [],
   "source": [
    "import sqlite3 #database\n",
    "import os #general\n",
    "import time #general\n",
    "from tqdm import tqdm #inline progress bar (quality of life)"
   ]
  },
  {
   "cell_type": "code",
   "execution_count": 3,
   "metadata": {},
   "outputs": [
    {
     "name": "stdout",
     "output_type": "stream",
     "text": [
      "Completed in 250 seconds\n"
     ]
    }
   ],
   "source": [
    "#returns all the rows of the databse as a triplit (filename, code, comment)\n",
    "def get_all_data():\n",
    "    #start timer\n",
    "    start = time.time()\n",
    "    \n",
    "    #connect to database\n",
    "    pwd = os.getcwd()\n",
    "    db_file = pwd+'/code_and_comments/all_data.db'\n",
    "    conn = sqlite3.connect(db_file)\n",
    "    \n",
    "    #get all the rows from the databse\n",
    "    cur = conn.cursor()\n",
    "    cur.execute(\"SELECT * FROM all_data\")\n",
    "    rows = cur.fetchall()\n",
    "    \n",
    "    #wrapp it up\n",
    "    conn.close()\n",
    "    end = time.time()\n",
    "    print(\"Completed in %d seconds\" % (end - start))\n",
    "    \n",
    "    return rows\n",
    "\n",
    "#rows = get_all_data()"
   ]
  },
  {
   "cell_type": "code",
   "execution_count": 4,
   "metadata": {},
   "outputs": [],
   "source": [
    "#example of how ot iterate through the rows and getting info\n",
    "'''\n",
    "for row in rows[:10]:\n",
    "    filename = row[0]\n",
    "    code = row[1]\n",
    "    comment = row[2]\n",
    "'''"
   ]
  },
  {
   "cell_type": "code",
   "execution_count": 28,
   "metadata": {},
   "outputs": [
    {
     "name": "stderr",
     "output_type": "stream",
     "text": [
      "100%|██████████| 16115540/16115540 [00:08<00:00, 2004623.12it/s]"
     ]
    },
    {
     "name": "stdout",
     "output_type": "stream",
     "text": [
      "846967\n"
     ]
    },
    {
     "name": "stderr",
     "output_type": "stream",
     "text": [
      "\n"
     ]
    }
   ],
   "source": [
    "#takes a dictionary and item for the purpose of counting number of items of that type\n",
    "def dic_count(dic, item):\n",
    "    if item in dic:\n",
    "        dic[item] = dic[item]+1\n",
    "    else:\n",
    "        dic[item] = 1\n",
    "    return dic\n",
    "    \n",
    "#returns the number of each extention in database\n",
    "def get_extention_stats(rows):\n",
    "    extention_count={}\n",
    "    for row in tqdm(rows):\n",
    "        filename = row[0]\n",
    "        extention = filename.split('.')[-1]\n",
    "        extention_count=dic_count(extention_count,extention)\n",
    "\n",
    "    print(extention_count)\n",
    "\n",
    "    \n",
    "def get_python_pairs(rows):\n",
    "    code_snippets = []\n",
    "    comments = []\n",
    "    too_big = 0\n",
    "    for row in tqdm(rows):\n",
    "        filename = row[0]\n",
    "        extention = filename.split('.')[-1]\n",
    "        if extention == 'py':\n",
    "            #limit the size\n",
    "            if len(row[1])<1000 and len(row[2])<1000:\n",
    "                code_snippets.append(row[1])\n",
    "                comments.append(row[2])\n",
    "            else:\n",
    "                too_big+=1\n",
    "    print('Total pairs:',len(comments))\n",
    "    return code_snippets, comments\n",
    "\n",
    "\n",
    "    print(extention_count)\n",
    "\n",
    "#code_snippets, comments = get_python_pairs(rows)"
   ]
  }
 ],
 "metadata": {
  "kernelspec": {
   "display_name": "Python 3",
   "language": "python",
   "name": "python3"
  },
  "language_info": {
   "codemirror_mode": {
    "name": "ipython",
    "version": 3
   },
   "file_extension": ".py",
   "mimetype": "text/x-python",
   "name": "python",
   "nbconvert_exporter": "python",
   "pygments_lexer": "ipython3",
   "version": "3.6.10"
  }
 },
 "nbformat": 4,
 "nbformat_minor": 4
}
